{
 "cells": [
  {
   "cell_type": "code",
   "execution_count": 12,
   "metadata": {},
   "outputs": [
    {
     "name": "stdout",
     "output_type": "stream",
     "text": [
      "GIFCHECK!\n",
      "2024-07-13 16:18:44,468 INFO:Starting Micboard 0.8.5\n",
      "2024-07-13 16:18:44,468 INFO:Starting Micboard 0.8.5\n",
      "2024-07-13 16:18:44,468 INFO:Starting Micboard 0.8.5\n",
      "2024-07-13 16:18:44,468 INFO:Starting Micboard 0.8.5\n",
      "2024-07-13 16:18:44,468 INFO:Starting Micboard 0.8.5\n",
      "2024-07-13 16:18:44,468 INFO:Starting Micboard 0.8.5\n",
      "2024-07-13 16:18:44,468 INFO:Starting Micboard 0.8.5\n"
     ]
    },
    {
     "data": {
      "text/plain": [
       "{'groups': [{'group': 1, 'slots': [1, 3, 2, 4], 'title': 'Group 1 Title'},\n",
       "  {'group': 2, 'slots': [4, 3, 2, 1], 'title': 'Group 2 Title'},\n",
       "  {'group': 9, 'slots': [1, 2, 3, 4], 'title': 'Group 9 Title'}],\n",
       " 'micboard_version': '0.8.5',\n",
       " 'port': 8058,\n",
       " 'slots': [{'chan_name_raw': 'SLOT 2',\n",
       "   'channel': 1,\n",
       "   'extended_name': 'Kirkwood Bullis',\n",
       "   'ip': '192.168.0.2',\n",
       "   'slot': 1,\n",
       "   'type': 'axtd'},\n",
       "  {'chan_name_raw': 'SLOT 2',\n",
       "   'channel': 1,\n",
       "   'extended_name': 'Laur',\n",
       "   'ip': '192.168.0.1',\n",
       "   'slot': 2,\n",
       "   'type': 'axtd'},\n",
       "  {'channel': 1, 'ip': '', 'slot': 3, 'type': 'axtd'},\n",
       "  {'channel': 1, 'ip': '', 'slot': 4, 'type': 'axtd'},\n",
       "  {'channel': 1, 'ip': '', 'slot': 5, 'type': 'axtd'},\n",
       "  {'channel': 1, 'ip': '', 'slot': 6, 'type': 'axtd'},\n",
       "  {'channel': 1, 'ip': '', 'slot': 7, 'type': 'axtd'},\n",
       "  {'channel': 1, 'ip': '', 'slot': 8, 'type': 'axtd'}],\n",
       " 'uuid': '3cdaab61-c9b1-4069-a69c-1f3efae98646'}"
      ]
     },
     "execution_count": 12,
     "metadata": {},
     "output_type": "execute_result"
    }
   ],
   "source": [
    "import config\n",
    "config.config()\n",
    "config.update_slot(\n",
    "    {\n",
    "      \"chan_name_raw\": \"SLOT 2\",\n",
    "      \"channel\": 1,\n",
    "      \"extended_name\": \"Laur\",\n",
    "      \"ip\": \"\",\n",
    "      \"slot\": 2,\n",
    "      \"type\": \"axtd\"\n",
    "    })\n",
    "config.config_tree"
   ]
  }
 ],
 "metadata": {
  "kernelspec": {
   "display_name": ".venv",
   "language": "python",
   "name": "python3"
  },
  "language_info": {
   "codemirror_mode": {
    "name": "ipython",
    "version": 3
   },
   "file_extension": ".py",
   "mimetype": "text/x-python",
   "name": "python",
   "nbconvert_exporter": "python",
   "pygments_lexer": "ipython3",
   "version": "3.11.2"
  }
 },
 "nbformat": 4,
 "nbformat_minor": 2
}
